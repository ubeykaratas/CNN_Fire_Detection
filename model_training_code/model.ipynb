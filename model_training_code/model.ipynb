{
  "cells": [
    {
      "cell_type": "code",
      "execution_count": null,
      "metadata": {
        "id": "qKcGB_EYS6YS"
      },
      "outputs": [],
      "source": [
        "import torch\n",
        "import torch.nn as nn\n",
        "import torch.optim as optim\n",
        "import torchvision.transforms as transforms\n",
        "from torchvision.datasets import ImageFolder\n",
        "from torch.utils.data import DataLoader\n",
        "import os\n",
        "import seaborn as sns\n",
        "import matplotlib.pyplot as plt\n",
        "from sklearn.metrics import confusion_matrix, f1_score, accuracy_score, roc_auc_score\n",
        "import numpy as np"
      ]
    },
    {
      "cell_type": "code",
      "execution_count": null,
      "metadata": {
        "colab": {
          "base_uri": "https://localhost:8080/"
        },
        "id": "D1WjhtV4TAHy",
        "outputId": "2db4ec92-79a0-47cc-cf56-6a90f707b5d6"
      },
      "outputs": [
        {
          "name": "stdout",
          "output_type": "stream",
          "text": [
            "cpu\n"
          ]
        }
      ],
      "source": [
        "# Paths\n",
        "train_path = \"/content/fire_dataset/train\"\n",
        "val_path = \"/content/fire_dataset/val\"\n",
        "test_path = \"/content/fire_dataset/test\"\n",
        "\n",
        "# Device\n",
        "device = torch.device(\"cuda\" if torch.cuda.is_available() else \"cpu\")\n",
        "print(device)"
      ]
    },
    {
      "cell_type": "code",
      "execution_count": null,
      "metadata": {
        "id": "4bZN05dIS9n8"
      },
      "outputs": [],
      "source": [
        "# CNN Model\n",
        "class CNNModel(nn.Module):\n",
        "    def __init__(self, num_classes):\n",
        "        super(CNNModel, self).__init__()\n",
        "        self.conv_layers = nn.Sequential(\n",
        "            nn.Conv2d(3, 32, kernel_size=3, padding=1),\n",
        "            nn.BatchNorm2d(32),\n",
        "            nn.ReLU(),\n",
        "            nn.MaxPool2d(kernel_size=2, stride=2),\n",
        "\n",
        "            nn.Conv2d(32, 64, kernel_size=3, padding=1),\n",
        "            nn.BatchNorm2d(64),\n",
        "            nn.ReLU(),\n",
        "            nn.MaxPool2d(kernel_size=2, stride=2),\n",
        "\n",
        "            nn.Conv2d(64, 128, kernel_size=3, padding=1),\n",
        "            nn.BatchNorm2d(128),\n",
        "            nn.ReLU(),\n",
        "            nn.MaxPool2d(kernel_size=2, stride=2),\n",
        "\n",
        "            nn.Conv2d(128, 256, kernel_size=3, padding=1),\n",
        "            nn.BatchNorm2d(256),\n",
        "            nn.ReLU(),\n",
        "            nn.MaxPool2d(kernel_size=2, stride=2)\n",
        "        )\n",
        "        self.fc_layers = nn.Sequential(\n",
        "            nn.Flatten(),\n",
        "            nn.Linear(256 * 4 * 4, 256),\n",
        "            nn.ReLU(),\n",
        "            nn.Linear(256, num_classes)\n",
        "        )\n",
        "\n",
        "    def forward(self, x):\n",
        "        x = self.conv_layers(x)\n",
        "        x = self.fc_layers(x)\n",
        "        return x\n"
      ]
    },
    {
      "cell_type": "code",
      "execution_count": null,
      "metadata": {
        "id": "yDToXzKLS1P1"
      },
      "outputs": [],
      "source": [
        "# Transforms\n",
        "transform = transforms.Compose([\n",
        "    transforms.Resize((64, 64)),\n",
        "    transforms.ToTensor(),\n",
        "    transforms.Normalize(mean=[0.5, 0.5, 0.5], std=[0.5, 0.5, 0.5])  # Normalize to [-1, 1]\n",
        "])\n",
        "\n",
        "# Datasets and Dataloaders\n",
        "train_dataset = ImageFolder(root=train_path, transform=transform)\n",
        "val_dataset = ImageFolder(root=val_path, transform=transform)\n",
        "test_dataset = ImageFolder(root=test_path, transform=transform)\n",
        "\n",
        "train_loader = DataLoader(train_dataset, batch_size=16, shuffle=True)\n",
        "val_loader = DataLoader(val_dataset, batch_size=16, shuffle=False)\n",
        "test_loader = DataLoader(test_dataset, batch_size=16, shuffle=False)"
      ]
    },
    {
      "cell_type": "code",
      "execution_count": null,
      "metadata": {
        "id": "Y1P74IkXTIL-"
      },
      "outputs": [],
      "source": [
        "# Model\n",
        "model = CNNModel(num_classes=len(train_dataset.classes)).to(device)\n",
        "\n",
        "# Optimizer, Loss Function, and Scheduler\n",
        "optimizer = optim.Adam(model.parameters(), lr=1e-3)\n",
        "scheduler = optim.lr_scheduler.MultiStepLR(optimizer, milestones=[20, 40, 80], gamma=0.3)\n",
        "criterion = nn.CrossEntropyLoss()\n",
        "\n",
        "# Training and Validation Function\n",
        "def train_and_validate(model, train_loader, val_loader, epochs):\n",
        "    for epoch in range(epochs):\n",
        "        # Training\n",
        "        model.train()\n",
        "        train_loss = 0.0\n",
        "        for images, labels in train_loader:\n",
        "            images, labels = images.to(device), labels.to(device)\n",
        "            optimizer.zero_grad()\n",
        "            outputs = model(images)\n",
        "            loss = criterion(outputs, labels)\n",
        "            loss.backward()\n",
        "            torch.nn.utils.clip_grad_norm_(model.parameters(), max_norm=1.0)  # Gradient clipping\n",
        "            optimizer.step()\n",
        "            train_loss += loss.item()\n",
        "\n",
        "        # Validation\n",
        "        model.eval()\n",
        "        val_loss = 0.0\n",
        "        correct = 0\n",
        "        total = 0\n",
        "        with torch.no_grad():\n",
        "            for images, labels in val_loader:\n",
        "                images, labels = images.to(device), labels.to(device)\n",
        "                outputs = model(images)\n",
        "                loss = criterion(outputs, labels)\n",
        "                val_loss += loss.item()\n",
        "                _, predicted = torch.max(outputs.data, 1)\n",
        "                total += labels.size(0)\n",
        "                correct += (predicted == labels).sum().item()\n",
        "\n",
        "        accuracy = 100 * correct / total\n",
        "        scheduler.step()\n",
        "\n",
        "        print(f\"Epoch [{epoch+1}/{epochs}], Train Loss: {train_loss / len(train_loader):.4f}, \"\n",
        "              f\"Validation Loss: {val_loss / len(val_loader):.4f}, Accuracy: {accuracy:.2f}%\")\n",
        "\n",
        "    # Model weights save\n",
        "    torch.save(model.state_dict(), \"cnn_model.pth\")\n",
        "    print(\"Model ağırlıkları cnn_model.pth dosyasına kaydedildi.\")"
      ]
    },
    {
      "cell_type": "code",
      "execution_count": null,
      "metadata": {
        "colab": {
          "base_uri": "https://localhost:8080/"
        },
        "id": "_jcpO2u3VzgP",
        "outputId": "7f6ae67e-bce9-4425-ca87-4809b9980ab1"
      },
      "outputs": [
        {
          "name": "stdout",
          "output_type": "stream",
          "text": [
            "Epoch [1/100], Train Loss: 0.3219, Validation Loss: 0.3174, Accuracy: 89.39%\n",
            "Epoch [2/100], Train Loss: 0.3515, Validation Loss: 0.2794, Accuracy: 91.02%\n",
            "Epoch [3/100], Train Loss: 0.2988, Validation Loss: 0.3036, Accuracy: 88.57%\n",
            "Epoch [4/100], Train Loss: 0.2222, Validation Loss: 0.2404, Accuracy: 93.06%\n",
            "Epoch [5/100], Train Loss: 0.2310, Validation Loss: 0.3474, Accuracy: 89.80%\n",
            "Epoch [6/100], Train Loss: 0.1607, Validation Loss: 0.3032, Accuracy: 91.02%\n",
            "Epoch [7/100], Train Loss: 0.1692, Validation Loss: 0.7138, Accuracy: 79.59%\n",
            "Epoch [8/100], Train Loss: 0.2041, Validation Loss: 0.3215, Accuracy: 91.84%\n",
            "Epoch [9/100], Train Loss: 0.1284, Validation Loss: 0.2507, Accuracy: 90.20%\n",
            "Epoch [10/100], Train Loss: 0.1247, Validation Loss: 0.4039, Accuracy: 93.88%\n",
            "Epoch [11/100], Train Loss: 0.1304, Validation Loss: 0.3093, Accuracy: 93.06%\n",
            "Epoch [12/100], Train Loss: 0.0823, Validation Loss: 0.3938, Accuracy: 93.06%\n",
            "Epoch [13/100], Train Loss: 0.0580, Validation Loss: 0.3225, Accuracy: 93.88%\n",
            "Epoch [14/100], Train Loss: 0.0636, Validation Loss: 0.4146, Accuracy: 93.88%\n",
            "Epoch [15/100], Train Loss: 0.0276, Validation Loss: 0.3583, Accuracy: 93.47%\n",
            "Epoch [16/100], Train Loss: 0.0302, Validation Loss: 0.3384, Accuracy: 94.69%\n",
            "Epoch [17/100], Train Loss: 0.0224, Validation Loss: 0.5573, Accuracy: 92.65%\n",
            "Epoch [18/100], Train Loss: 0.0370, Validation Loss: 0.3358, Accuracy: 94.69%\n",
            "Epoch [19/100], Train Loss: 0.0146, Validation Loss: 0.3692, Accuracy: 94.69%\n",
            "Epoch [20/100], Train Loss: 0.0010, Validation Loss: 0.3833, Accuracy: 94.69%\n",
            "Epoch [21/100], Train Loss: 0.0015, Validation Loss: 0.4182, Accuracy: 94.69%\n",
            "Epoch [22/100], Train Loss: 0.0016, Validation Loss: 0.3747, Accuracy: 94.69%\n",
            "Epoch [23/100], Train Loss: 0.0047, Validation Loss: 0.3738, Accuracy: 95.10%\n",
            "Epoch [24/100], Train Loss: 0.0021, Validation Loss: 0.3738, Accuracy: 95.10%\n",
            "Epoch [25/100], Train Loss: 0.1010, Validation Loss: 0.4127, Accuracy: 95.51%\n",
            "Epoch [26/100], Train Loss: 0.0068, Validation Loss: 0.4541, Accuracy: 93.88%\n",
            "Epoch [27/100], Train Loss: 0.0001, Validation Loss: 0.4041, Accuracy: 95.92%\n",
            "Epoch [28/100], Train Loss: 0.0006, Validation Loss: 0.4274, Accuracy: 95.10%\n",
            "Epoch [29/100], Train Loss: 0.0002, Validation Loss: 0.4492, Accuracy: 94.69%\n",
            "Epoch [30/100], Train Loss: 0.0002, Validation Loss: 0.4378, Accuracy: 95.51%\n",
            "Epoch [31/100], Train Loss: 0.0020, Validation Loss: 0.4111, Accuracy: 94.69%\n",
            "Epoch [32/100], Train Loss: 0.0046, Validation Loss: 0.4227, Accuracy: 95.51%\n",
            "Epoch [33/100], Train Loss: 0.0003, Validation Loss: 0.4455, Accuracy: 94.29%\n",
            "Epoch [34/100], Train Loss: 0.0001, Validation Loss: 0.4524, Accuracy: 95.51%\n",
            "Epoch [35/100], Train Loss: 0.0004, Validation Loss: 0.4663, Accuracy: 95.51%\n",
            "Epoch [36/100], Train Loss: 0.0001, Validation Loss: 0.4929, Accuracy: 95.51%\n",
            "Epoch [37/100], Train Loss: 0.0016, Validation Loss: 0.5172, Accuracy: 94.69%\n",
            "Epoch [38/100], Train Loss: 0.0087, Validation Loss: 0.4447, Accuracy: 95.10%\n",
            "Epoch [39/100], Train Loss: 0.0001, Validation Loss: 0.4458, Accuracy: 95.51%\n",
            "Epoch [40/100], Train Loss: 0.0001, Validation Loss: 0.4459, Accuracy: 95.51%\n",
            "Epoch [41/100], Train Loss: 0.0000, Validation Loss: 0.4481, Accuracy: 94.69%\n",
            "Epoch [42/100], Train Loss: 0.0001, Validation Loss: 0.4556, Accuracy: 95.51%\n",
            "Epoch [43/100], Train Loss: 0.0184, Validation Loss: 0.4522, Accuracy: 95.10%\n",
            "Epoch [44/100], Train Loss: 0.0000, Validation Loss: 0.4685, Accuracy: 95.10%\n",
            "Epoch [45/100], Train Loss: 0.0002, Validation Loss: 0.5039, Accuracy: 95.10%\n",
            "Epoch [46/100], Train Loss: 0.0000, Validation Loss: 0.4534, Accuracy: 95.10%\n",
            "Epoch [47/100], Train Loss: 0.0001, Validation Loss: 0.4768, Accuracy: 95.10%\n",
            "Epoch [48/100], Train Loss: 0.0000, Validation Loss: 0.4760, Accuracy: 95.51%\n",
            "Epoch [49/100], Train Loss: 0.0001, Validation Loss: 0.4470, Accuracy: 95.51%\n",
            "Epoch [50/100], Train Loss: 0.0868, Validation Loss: 0.4742, Accuracy: 94.69%\n",
            "Epoch [51/100], Train Loss: 0.0001, Validation Loss: 0.5239, Accuracy: 94.69%\n",
            "Epoch [52/100], Train Loss: 0.0001, Validation Loss: 0.4598, Accuracy: 95.51%\n",
            "Epoch [53/100], Train Loss: 0.0001, Validation Loss: 0.4674, Accuracy: 95.51%\n",
            "Epoch [54/100], Train Loss: 0.0002, Validation Loss: 0.4667, Accuracy: 95.51%\n",
            "Epoch [55/100], Train Loss: 0.0004, Validation Loss: 0.5648, Accuracy: 93.47%\n",
            "Epoch [56/100], Train Loss: 0.0005, Validation Loss: 0.5016, Accuracy: 94.29%\n",
            "Epoch [57/100], Train Loss: 0.0010, Validation Loss: 0.4640, Accuracy: 95.10%\n",
            "Epoch [58/100], Train Loss: 0.0003, Validation Loss: 0.4527, Accuracy: 95.10%\n",
            "Epoch [59/100], Train Loss: 0.0001, Validation Loss: 0.4441, Accuracy: 95.10%\n",
            "Epoch [60/100], Train Loss: 0.0000, Validation Loss: 0.4074, Accuracy: 95.10%\n",
            "Epoch [61/100], Train Loss: 0.0005, Validation Loss: 0.4681, Accuracy: 95.92%\n",
            "Epoch [62/100], Train Loss: 0.0000, Validation Loss: 0.4751, Accuracy: 95.51%\n",
            "Epoch [63/100], Train Loss: 0.0001, Validation Loss: 0.4819, Accuracy: 95.10%\n",
            "Epoch [64/100], Train Loss: 0.0000, Validation Loss: 0.4468, Accuracy: 95.92%\n",
            "Epoch [65/100], Train Loss: 0.0002, Validation Loss: 0.5121, Accuracy: 94.69%\n",
            "Epoch [66/100], Train Loss: 0.0001, Validation Loss: 0.4709, Accuracy: 95.51%\n",
            "Epoch [67/100], Train Loss: 0.0001, Validation Loss: 0.4687, Accuracy: 95.10%\n",
            "Epoch [68/100], Train Loss: 0.0001, Validation Loss: 0.4908, Accuracy: 94.29%\n",
            "Epoch [69/100], Train Loss: 0.0001, Validation Loss: 0.4906, Accuracy: 95.10%\n",
            "Epoch [70/100], Train Loss: 0.0000, Validation Loss: 0.4770, Accuracy: 95.51%\n",
            "Epoch [71/100], Train Loss: 0.0001, Validation Loss: 0.4673, Accuracy: 95.51%\n",
            "Epoch [72/100], Train Loss: 0.0001, Validation Loss: 0.4812, Accuracy: 95.51%\n",
            "Epoch [73/100], Train Loss: 0.0000, Validation Loss: 0.5222, Accuracy: 93.88%\n",
            "Epoch [74/100], Train Loss: 0.0001, Validation Loss: 0.4764, Accuracy: 95.10%\n",
            "Epoch [75/100], Train Loss: 0.0066, Validation Loss: 0.4729, Accuracy: 95.51%\n",
            "Epoch [76/100], Train Loss: 0.0000, Validation Loss: 0.4633, Accuracy: 95.51%\n",
            "Epoch [77/100], Train Loss: 0.0001, Validation Loss: 0.4910, Accuracy: 95.10%\n",
            "Epoch [78/100], Train Loss: 0.0000, Validation Loss: 0.4865, Accuracy: 95.51%\n",
            "Epoch [79/100], Train Loss: 0.0000, Validation Loss: 0.4843, Accuracy: 95.51%\n",
            "Epoch [80/100], Train Loss: 0.0000, Validation Loss: 0.5041, Accuracy: 95.10%\n",
            "Epoch [81/100], Train Loss: 0.0002, Validation Loss: 0.5013, Accuracy: 94.69%\n",
            "Epoch [82/100], Train Loss: 0.0003, Validation Loss: 0.4640, Accuracy: 95.51%\n",
            "Epoch [83/100], Train Loss: 0.0001, Validation Loss: 0.4760, Accuracy: 95.51%\n",
            "Epoch [84/100], Train Loss: 0.0432, Validation Loss: 0.5004, Accuracy: 94.69%\n",
            "Epoch [85/100], Train Loss: 0.0000, Validation Loss: 0.4717, Accuracy: 95.10%\n",
            "Epoch [86/100], Train Loss: 0.0048, Validation Loss: 0.4669, Accuracy: 95.51%\n",
            "Epoch [87/100], Train Loss: 0.0000, Validation Loss: 0.4933, Accuracy: 95.51%\n",
            "Epoch [88/100], Train Loss: 0.0002, Validation Loss: 0.4648, Accuracy: 95.51%\n",
            "Epoch [89/100], Train Loss: 0.0000, Validation Loss: 0.4741, Accuracy: 95.51%\n",
            "Epoch [90/100], Train Loss: 0.0000, Validation Loss: 0.4763, Accuracy: 95.51%\n",
            "Epoch [91/100], Train Loss: 0.0000, Validation Loss: 0.4486, Accuracy: 95.10%\n",
            "Epoch [92/100], Train Loss: 0.0001, Validation Loss: 0.4695, Accuracy: 95.51%\n",
            "Epoch [93/100], Train Loss: 0.0479, Validation Loss: 0.4925, Accuracy: 95.10%\n",
            "Epoch [94/100], Train Loss: 0.0000, Validation Loss: 0.4560, Accuracy: 95.10%\n",
            "Epoch [95/100], Train Loss: 0.0000, Validation Loss: 0.4590, Accuracy: 95.51%\n",
            "Epoch [96/100], Train Loss: 0.0003, Validation Loss: 0.4466, Accuracy: 94.69%\n",
            "Epoch [97/100], Train Loss: 0.0002, Validation Loss: 0.4603, Accuracy: 95.10%\n",
            "Epoch [98/100], Train Loss: 0.0000, Validation Loss: 0.4768, Accuracy: 95.10%\n",
            "Epoch [99/100], Train Loss: 0.0000, Validation Loss: 0.4584, Accuracy: 95.51%\n",
            "Epoch [100/100], Train Loss: 0.0049, Validation Loss: 0.4548, Accuracy: 95.10%\n",
            "Model ağırlıkları cnn_model.pth dosyasına kaydedildi.\n",
            "Model ağırlıkları cnn_model.pth dosyasından yüklendi.\n"
          ]
        },
        {
          "name": "stderr",
          "output_type": "stream",
          "text": [
            "<ipython-input-36-a195ce31cd6c>:6: FutureWarning: You are using `torch.load` with `weights_only=False` (the current default value), which uses the default pickle module implicitly. It is possible to construct malicious pickle data which will execute arbitrary code during unpickling (See https://github.com/pytorch/pytorch/blob/main/SECURITY.md#untrusted-models for more details). In a future release, the default value for `weights_only` will be flipped to `True`. This limits the functions that could be executed during unpickling. Arbitrary objects will no longer be allowed to be loaded via this mode unless they are explicitly allowlisted by the user via `torch.serialization.add_safe_globals`. We recommend you start setting `weights_only=True` for any use case where you don't have full control of the loaded file. Please open an issue on GitHub for any issues related to this experimental feature.\n",
            "  model.load_state_dict(torch.load(\"cnn_model.pth\"))\n"
          ]
        }
      ],
      "source": [
        "# Training the model\n",
        "epochs = 100\n",
        "train_and_validate(model, train_loader, val_loader, epochs)\n",
        "\n",
        "# Loading the model weights\n",
        "model.load_state_dict(torch.load(\"cnn_model.pth\"))\n",
        "model.to(device)\n",
        "print(\"Model ağırlıkları cnn_model.pth dosyasından yüklendi.\")"
      ]
    },
    {
      "cell_type": "code",
      "execution_count": null,
      "metadata": {
        "colab": {
          "base_uri": "https://localhost:8080/",
          "height": 1000
        },
        "id": "NeEW8qN0XnzM",
        "outputId": "911f1b8f-0b25-4236-d114-11b1327ca2cf"
      },
      "outputs": [
        {
          "data": {
            "image/png": "[encoded data removed]",
            "text/plain": [
              "<Figure size 1000x700 with 2 Axes>"
            ]
          },
          "metadata": {},
          "output_type": "display_data"
        },
        {
          "name": "stdout",
          "output_type": "stream",
          "text": [
            "Precision: 0.934\n",
            "Recall: 0.9770\n",
            "Specificity: 0.961\n",
            "FP Rate: 0.039\n",
            "\n",
            "Accuracy: 96.65%\n",
            "Miss Rate: 0.02\n",
            "F1 Score: 0.967\n",
            "AUC Score: 0.993\n"
          ]
        },
        {
          "name": "stderr",
          "output_type": "stream",
          "text": [
            "<ipython-input-63-9795cf5e8a2f>:70: FutureWarning: \n",
            "\n",
            "Passing `palette` without assigning `hue` is deprecated and will be removed in v0.14.0. Assign the `x` variable to `hue` and set `legend=False` for the same effect.\n",
            "\n",
            "  sns.barplot(x=list(metrics.keys()), y=list(metrics.values()), palette='viridis')\n"
          ]
        },
        {
          "data": {
            "text/plain": [
              "<Figure size 640x480 with 0 Axes>"
            ]
          },
          "metadata": {},
          "output_type": "display_data"
        },
        {
          "data": {
            "image/png": "[encoded data removed]",
            "text/plain": [
              "<Figure size 800x700 with 1 Axes>"
            ]
          },
          "metadata": {},
          "output_type": "display_data"
        },
        {
          "data": {
            "text/plain": [
              "<Figure size 640x480 with 0 Axes>"
            ]
          },
          "metadata": {},
          "output_type": "display_data"
        }
      ],
      "source": [
        "# Test Function with Enhanced Visualization\n",
        "def test_model_with_visualization(model, test_loader):\n",
        "    model.eval()\n",
        "    y_true = []\n",
        "    y_pred = []\n",
        "    y_scores = []  # Softmax scores\n",
        "    with torch.no_grad():\n",
        "        for images, labels in test_loader:\n",
        "            images, labels = images.to(device), labels.to(device)\n",
        "            outputs = model(images)\n",
        "            # Get the probability for the positive class (assuming class 1 is positive)\n",
        "            scores = torch.softmax(outputs, dim=1)[:, 1]  # Extract probabilities for class 1\n",
        "            y_scores.extend(scores.cpu().numpy())\n",
        "            _, predicted = torch.max(outputs.data, 1)\n",
        "            y_true.extend(labels.cpu().numpy())\n",
        "            y_pred.extend(predicted.cpu().numpy())\n",
        "\n",
        "    # Confusion Matrix\n",
        "    cm = confusion_matrix(y_true, y_pred)\n",
        "    TP = cm[1, 1]\n",
        "    TN = cm[0, 0]\n",
        "    FP = cm[0, 1]\n",
        "    FN = cm[1, 0]\n",
        "\n",
        "    precision = TP / (TP + FP)\n",
        "    recall = TP / (TP + FN)\n",
        "    specificity = TN / (TN + FP)\n",
        "    fpRate = FP / (FP + TN)\n",
        "\n",
        "    acc = accuracy_score(y_true, y_pred)\n",
        "    missRate = FN / (TP + FN)\n",
        "    f1 = f1_score(y_true, y_pred, average='weighted')\n",
        "    auc = roc_auc_score(y_true, np.array(y_scores), multi_class=\"ovr\")\n",
        "\n",
        "    # Confusion Matrix Visualization\n",
        "    plt.figure(figsize=(10, 7))\n",
        "    sns.heatmap(cm, annot=True, fmt='d', cmap='Blues', xticklabels=[\"yangın-yok\", \"yangın-var\"], yticklabels=[\"yangın-yok\", \"yangın-var\"])\n",
        "    plt.xlabel('Predicted')\n",
        "    plt.ylabel('Actual')\n",
        "    plt.title('Confusion Matrix')\n",
        "    plt.show()\n",
        "    plt.tight_layout()\n",
        "    plt.savefig('/content/confusion_matrix.png', format='png')\n",
        "\n",
        "    print(f\"Precision: {precision:.3f}\")\n",
        "    print(f\"Recall: {recall:.4f}\")\n",
        "    print(f\"Specificity: {specificity:.3f}\")\n",
        "    print(f\"FP Rate: {fpRate:.3f}\")\n",
        "    print(f\"\\nAccuracy: {acc * 100:.2f}%\")\n",
        "    print(f\"Miss Rate: {missRate:.2f}\")\n",
        "    print(f\"F1 Score: {f1:.3f}\")\n",
        "    print(f\"AUC Score: {auc:.3f}\")\n",
        "\n",
        "    # Metrikleri bir listeye koyabiliriz\n",
        "    metrics = {\n",
        "        'Precision': precision,\n",
        "        'Recall': recall,\n",
        "        'Specificity': specificity,\n",
        "        'FP Rate': fpRate,\n",
        "        'Miss Rate': missRate,\n",
        "        'F1 Score': f1,\n",
        "        'AUC Score': auc,\n",
        "        'Accuracy': acc\n",
        "    }\n",
        "\n",
        "    # Görselleştirme\n",
        "    fig, ax = plt.subplots(figsize=(8, 7))\n",
        "\n",
        "    # Performans metriklerini çubuk grafikte gösterelim\n",
        "    sns.barplot(x=list(metrics.keys()), y=list(metrics.values()), palette='viridis')\n",
        "\n",
        "    # Başlık ve etiketler\n",
        "    ax.set_title('Model Performans', fontsize=16)\n",
        "    ax.set_ylabel('Değer', fontsize=14)\n",
        "\n",
        "    # Değerleri üstüne ekleyelim\n",
        "    for i, v in enumerate(metrics.values()):\n",
        "        ax.text(i, v + 0.02, f'{v:.2f}', ha='center', va='bottom', fontsize=11)\n",
        "\n",
        "    # Grafiği göster\n",
        "    plt.tight_layout()\n",
        "    plt.show()\n",
        "    plt.tight_layout()\n",
        "    plt.savefig('/content/performance_metrics.png', format='png')\n",
        "\n",
        "# Model Evaluation with Visualization\n",
        "test_model_with_visualization(model, test_loader)\n"
      ]
    }
  ],
  "metadata": {
    "colab": {
      "provenance": []
    },
    "kernelspec": {
      "display_name": "Python 3",
      "name": "python3"
    },
    "language_info": {
      "name": "python"
    }
  },
  "nbformat": 4,
  "nbformat_minor": 0
}
